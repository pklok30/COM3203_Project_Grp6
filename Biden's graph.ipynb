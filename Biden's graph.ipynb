{
 "cells": [
  {
   "cell_type": "markdown",
   "metadata": {},
   "source": [
    "# The process of making the graphs for Biden's tweets\n",
    "\n",
    "Visualize the data we get from Mr. Joe Biden's tweets\n"
   ]
  },
  {
   "cell_type": "code",
   "execution_count": 3,
   "metadata": {},
   "outputs": [],
   "source": [
    "import pandas as pd"
   ]
  },
  {
   "cell_type": "code",
   "execution_count": 4,
   "metadata": {},
   "outputs": [],
   "source": [
    "import numpy as np\n",
    "import matplotlib.pyplot as plt"
   ]
  },
  {
   "cell_type": "code",
   "execution_count": 5,
   "metadata": {},
   "outputs": [],
   "source": [
    "df = pd.read_csv(\"Biden(processed).csv\")"
   ]
  },
  {
   "cell_type": "code",
   "execution_count": 6,
   "metadata": {},
   "outputs": [],
   "source": [
    "#delete the id column\n",
    "df.drop('id', axis=1, inplace=True)"
   ]
  },
  {
   "cell_type": "code",
   "execution_count": 7,
   "metadata": {},
   "outputs": [],
   "source": [
    "#delete the date column\n",
    "df.drop('date', axis=1, inplace=True)"
   ]
  },
  {
   "cell_type": "code",
   "execution_count": 9,
   "metadata": {},
   "outputs": [
    {
     "data": {
      "text/html": [
       "<div>\n",
       "<style scoped>\n",
       "    .dataframe tbody tr th:only-of-type {\n",
       "        vertical-align: middle;\n",
       "    }\n",
       "\n",
       "    .dataframe tbody tr th {\n",
       "        vertical-align: top;\n",
       "    }\n",
       "\n",
       "    .dataframe thead th {\n",
       "        text-align: right;\n",
       "    }\n",
       "</style>\n",
       "<table border=\"1\" class=\"dataframe\">\n",
       "  <thead>\n",
       "    <tr style=\"text-align: right;\">\n",
       "      <th></th>\n",
       "      <th>type</th>\n",
       "      <th>tweet</th>\n",
       "      <th>comments</th>\n",
       "      <th>retweets</th>\n",
       "      <th>likes</th>\n",
       "    </tr>\n",
       "  </thead>\n",
       "  <tbody>\n",
       "    <tr>\n",
       "      <th>0</th>\n",
       "      <td>fact</td>\n",
       "      <td>I extend my deep condolences to the loved ones...</td>\n",
       "      <td>33000</td>\n",
       "      <td>5000</td>\n",
       "      <td>497000</td>\n",
       "    </tr>\n",
       "    <tr>\n",
       "      <th>1</th>\n",
       "      <td>fact</td>\n",
       "      <td>Today, we honor the service of those who have ...</td>\n",
       "      <td>8700</td>\n",
       "      <td>35000</td>\n",
       "      <td>363000</td>\n",
       "    </tr>\n",
       "    <tr>\n",
       "      <th>2</th>\n",
       "      <td>fact</td>\n",
       "      <td>We are going to build a health care system tha...</td>\n",
       "      <td>24700</td>\n",
       "      <td>4000</td>\n",
       "      <td>437000</td>\n",
       "    </tr>\n",
       "    <tr>\n",
       "      <th>3</th>\n",
       "      <td>fact</td>\n",
       "      <td>When I’m speaking to foreign leaders, I’m tell...</td>\n",
       "      <td>37700</td>\n",
       "      <td>16500</td>\n",
       "      <td>632200</td>\n",
       "    </tr>\n",
       "    <tr>\n",
       "      <th>4</th>\n",
       "      <td>fact</td>\n",
       "      <td>Come January, we will work quickly with Congre...</td>\n",
       "      <td>12600</td>\n",
       "      <td>227000</td>\n",
       "      <td>305300</td>\n",
       "    </tr>\n",
       "    <tr>\n",
       "      <th>5</th>\n",
       "      <td>fact</td>\n",
       "      <td>Beginning on January 20th, Vice President-elec...</td>\n",
       "      <td>15500</td>\n",
       "      <td>33200</td>\n",
       "      <td>444500</td>\n",
       "    </tr>\n",
       "    <tr>\n",
       "      <th>6</th>\n",
       "      <td>fact</td>\n",
       "      <td>I won't be president until January 20th, but m...</td>\n",
       "      <td>161700</td>\n",
       "      <td>23900</td>\n",
       "      <td>15000</td>\n",
       "    </tr>\n",
       "    <tr>\n",
       "      <th>7</th>\n",
       "      <td>fact</td>\n",
       "      <td>The bottom line: I will spare no effort to tur...</td>\n",
       "      <td>15900</td>\n",
       "      <td>29800</td>\n",
       "      <td>488500</td>\n",
       "    </tr>\n",
       "    <tr>\n",
       "      <th>8</th>\n",
       "      <td>fact</td>\n",
       "      <td>The challenge before us right now is still imm...</td>\n",
       "      <td>7700</td>\n",
       "      <td>14400</td>\n",
       "      <td>248300</td>\n",
       "    </tr>\n",
       "    <tr>\n",
       "      <th>9</th>\n",
       "      <td>fact</td>\n",
       "      <td>My COVID-19 Transition Advisory Board will adv...</td>\n",
       "      <td>4500</td>\n",
       "      <td>14200</td>\n",
       "      <td>197700</td>\n",
       "    </tr>\n",
       "    <tr>\n",
       "      <th>10</th>\n",
       "      <td>fact</td>\n",
       "      <td>Today, I have named a COVID-19 Transition Advi...</td>\n",
       "      <td>10500</td>\n",
       "      <td>29300</td>\n",
       "      <td>348200</td>\n",
       "    </tr>\n",
       "    <tr>\n",
       "      <th>11</th>\n",
       "      <td>fact</td>\n",
       "      <td>A nation united. A nation strengthened. A nati...</td>\n",
       "      <td>40400</td>\n",
       "      <td>81400</td>\n",
       "      <td>937800</td>\n",
       "    </tr>\n",
       "    <tr>\n",
       "      <th>12</th>\n",
       "      <td>fact</td>\n",
       "      <td>With full hearts and steady hands, with faith ...</td>\n",
       "      <td>15000</td>\n",
       "      <td>46700</td>\n",
       "      <td>634200</td>\n",
       "    </tr>\n",
       "    <tr>\n",
       "      <th>13</th>\n",
       "      <td>fact</td>\n",
       "      <td>Tonight, the whole world is watching America. ...</td>\n",
       "      <td>8100</td>\n",
       "      <td>26600</td>\n",
       "      <td>344800</td>\n",
       "    </tr>\n",
       "    <tr>\n",
       "      <th>14</th>\n",
       "      <td>fact</td>\n",
       "      <td>Especially for those moments when this campaig...</td>\n",
       "      <td>8600</td>\n",
       "      <td>43900</td>\n",
       "      <td>483600</td>\n",
       "    </tr>\n",
       "    <tr>\n",
       "      <th>15</th>\n",
       "      <td>fact</td>\n",
       "      <td>I believe that this is part of the mandate fro...</td>\n",
       "      <td>3800</td>\n",
       "      <td>8900</td>\n",
       "      <td>146200</td>\n",
       "    </tr>\n",
       "    <tr>\n",
       "      <th>16</th>\n",
       "      <td>fact</td>\n",
       "      <td>Now that the campaign is over—what is the peop...</td>\n",
       "      <td>14500</td>\n",
       "      <td>20600</td>\n",
       "      <td>252500</td>\n",
       "    </tr>\n",
       "    <tr>\n",
       "      <th>17</th>\n",
       "      <td>fact</td>\n",
       "      <td>We cannot repair the economy, restore our vita...</td>\n",
       "      <td>9700</td>\n",
       "      <td>23800</td>\n",
       "      <td>294400</td>\n",
       "    </tr>\n",
       "    <tr>\n",
       "      <th>18</th>\n",
       "      <td>fact</td>\n",
       "      <td>The Bible tells us that to everything there is...</td>\n",
       "      <td>24500</td>\n",
       "      <td>47300</td>\n",
       "      <td>36400</td>\n",
       "    </tr>\n",
       "    <tr>\n",
       "      <th>19</th>\n",
       "      <td>fact</td>\n",
       "      <td>It’s time to put away the harsh rhetoric. To l...</td>\n",
       "      <td>7200</td>\n",
       "      <td>21200</td>\n",
       "      <td>263100</td>\n",
       "    </tr>\n",
       "    <tr>\n",
       "      <th>20</th>\n",
       "      <td>fact</td>\n",
       "      <td>To all those who volunteered, worked the polls...</td>\n",
       "      <td>3200</td>\n",
       "      <td>13600</td>\n",
       "      <td>237100</td>\n",
       "    </tr>\n",
       "    <tr>\n",
       "      <th>21</th>\n",
       "      <td>fact</td>\n",
       "      <td>For America’s educators, this is a great day: ...</td>\n",
       "      <td>9300</td>\n",
       "      <td>75300</td>\n",
       "      <td>711400</td>\n",
       "    </tr>\n",
       "    <tr>\n",
       "      <th>22</th>\n",
       "      <td>fact</td>\n",
       "      <td>I pledge to be a President who seeks not to di...</td>\n",
       "      <td>32400</td>\n",
       "      <td>33700</td>\n",
       "      <td>43100</td>\n",
       "    </tr>\n",
       "    <tr>\n",
       "      <th>23</th>\n",
       "      <td>fact</td>\n",
       "      <td>Folks, the people of this nation have spoken. ...</td>\n",
       "      <td>17900</td>\n",
       "      <td>20200</td>\n",
       "      <td>265700</td>\n",
       "    </tr>\n",
       "    <tr>\n",
       "      <th>24</th>\n",
       "      <td>fact</td>\n",
       "      <td>We may be opponents — but we are not enemies. ...</td>\n",
       "      <td>32000</td>\n",
       "      <td>91300</td>\n",
       "      <td>10000</td>\n",
       "    </tr>\n",
       "    <tr>\n",
       "      <th>25</th>\n",
       "      <td>fact</td>\n",
       "      <td>We have to remember the purpose of our politic...</td>\n",
       "      <td>11500</td>\n",
       "      <td>21000</td>\n",
       "      <td>370100</td>\n",
       "    </tr>\n",
       "    <tr>\n",
       "      <th>26</th>\n",
       "      <td>fact</td>\n",
       "      <td>I know tensions can be high after a tough elec...</td>\n",
       "      <td>10000</td>\n",
       "      <td>20900</td>\n",
       "      <td>375600</td>\n",
       "    </tr>\n",
       "    <tr>\n",
       "      <th>27</th>\n",
       "      <td>fact</td>\n",
       "      <td>We are going to be the first Democrats to win ...</td>\n",
       "      <td>6300</td>\n",
       "      <td>25000</td>\n",
       "      <td>341100</td>\n",
       "    </tr>\n",
       "    <tr>\n",
       "      <th>28</th>\n",
       "      <td>fact</td>\n",
       "      <td>What is becoming clearer each hour is that rec...</td>\n",
       "      <td>5100</td>\n",
       "      <td>18900</td>\n",
       "      <td>224500</td>\n",
       "    </tr>\n",
       "    <tr>\n",
       "      <th>29</th>\n",
       "      <td>fact</td>\n",
       "      <td>The numbers tell us a clear and convincing sto...</td>\n",
       "      <td>22100</td>\n",
       "      <td>57500</td>\n",
       "      <td>841800</td>\n",
       "    </tr>\n",
       "    <tr>\n",
       "      <th>30</th>\n",
       "      <td>fact</td>\n",
       "      <td>Keep the faith, folks.</td>\n",
       "      <td>29100</td>\n",
       "      <td>70200</td>\n",
       "      <td>977100</td>\n",
       "    </tr>\n",
       "    <tr>\n",
       "      <th>31</th>\n",
       "      <td>fact</td>\n",
       "      <td>No one is going to take our democracy away fro...</td>\n",
       "      <td>17600</td>\n",
       "      <td>57300</td>\n",
       "      <td>578700</td>\n",
       "    </tr>\n",
       "  </tbody>\n",
       "</table>\n",
       "</div>"
      ],
      "text/plain": [
       "    type                                              tweet  comments  \\\n",
       "0   fact  I extend my deep condolences to the loved ones...     33000   \n",
       "1   fact  Today, we honor the service of those who have ...      8700   \n",
       "2   fact  We are going to build a health care system tha...     24700   \n",
       "3   fact  When I’m speaking to foreign leaders, I’m tell...     37700   \n",
       "4   fact  Come January, we will work quickly with Congre...     12600   \n",
       "5   fact  Beginning on January 20th, Vice President-elec...     15500   \n",
       "6   fact  I won't be president until January 20th, but m...    161700   \n",
       "7   fact  The bottom line: I will spare no effort to tur...     15900   \n",
       "8   fact  The challenge before us right now is still imm...      7700   \n",
       "9   fact  My COVID-19 Transition Advisory Board will adv...      4500   \n",
       "10  fact  Today, I have named a COVID-19 Transition Advi...     10500   \n",
       "11  fact  A nation united. A nation strengthened. A nati...     40400   \n",
       "12  fact  With full hearts and steady hands, with faith ...     15000   \n",
       "13  fact  Tonight, the whole world is watching America. ...      8100   \n",
       "14  fact  Especially for those moments when this campaig...      8600   \n",
       "15  fact  I believe that this is part of the mandate fro...      3800   \n",
       "16  fact  Now that the campaign is over—what is the peop...     14500   \n",
       "17  fact  We cannot repair the economy, restore our vita...      9700   \n",
       "18  fact  The Bible tells us that to everything there is...     24500   \n",
       "19  fact  It’s time to put away the harsh rhetoric. To l...      7200   \n",
       "20  fact  To all those who volunteered, worked the polls...      3200   \n",
       "21  fact  For America’s educators, this is a great day: ...      9300   \n",
       "22  fact  I pledge to be a President who seeks not to di...     32400   \n",
       "23  fact  Folks, the people of this nation have spoken. ...     17900   \n",
       "24  fact  We may be opponents — but we are not enemies. ...     32000   \n",
       "25  fact  We have to remember the purpose of our politic...     11500   \n",
       "26  fact  I know tensions can be high after a tough elec...     10000   \n",
       "27  fact  We are going to be the first Democrats to win ...      6300   \n",
       "28  fact  What is becoming clearer each hour is that rec...      5100   \n",
       "29  fact  The numbers tell us a clear and convincing sto...     22100   \n",
       "30  fact                             Keep the faith, folks.     29100   \n",
       "31  fact  No one is going to take our democracy away fro...     17600   \n",
       "\n",
       "    retweets   likes  \n",
       "0       5000  497000  \n",
       "1      35000  363000  \n",
       "2       4000  437000  \n",
       "3      16500  632200  \n",
       "4     227000  305300  \n",
       "5      33200  444500  \n",
       "6      23900   15000  \n",
       "7      29800  488500  \n",
       "8      14400  248300  \n",
       "9      14200  197700  \n",
       "10     29300  348200  \n",
       "11     81400  937800  \n",
       "12     46700  634200  \n",
       "13     26600  344800  \n",
       "14     43900  483600  \n",
       "15      8900  146200  \n",
       "16     20600  252500  \n",
       "17     23800  294400  \n",
       "18     47300   36400  \n",
       "19     21200  263100  \n",
       "20     13600  237100  \n",
       "21     75300  711400  \n",
       "22     33700   43100  \n",
       "23     20200  265700  \n",
       "24     91300   10000  \n",
       "25     21000  370100  \n",
       "26     20900  375600  \n",
       "27     25000  341100  \n",
       "28     18900  224500  \n",
       "29     57500  841800  \n",
       "30     70200  977100  \n",
       "31     57300  578700  "
      ]
     },
     "execution_count": 9,
     "metadata": {},
     "output_type": "execute_result"
    }
   ],
   "source": [
    "#show all the data, set 40 because it is more than the total tweets number\n",
    "df.head(40)"
   ]
  },
  {
   "cell_type": "code",
   "execution_count": 11,
   "metadata": {},
   "outputs": [],
   "source": [
    "# count the numbers of type (column)\n",
    "Type_count_series = df.groupby('type').size()"
   ]
  },
  {
   "cell_type": "code",
   "execution_count": 12,
   "metadata": {},
   "outputs": [
    {
     "name": "stdout",
     "output_type": "stream",
     "text": [
      "fact, total:32\n"
     ]
    }
   ],
   "source": [
    "# output a list which shows the frequencies of Fake news or Fact\n",
    "for Type in Type_count_series.index:\n",
    "    print(Type, Type_count_series[Type], sep=', total:')"
   ]
  },
  {
   "cell_type": "code",
   "execution_count": 71,
   "metadata": {},
   "outputs": [
    {
     "data": {
      "text/html": [
       "<div>\n",
       "<style scoped>\n",
       "    .dataframe tbody tr th:only-of-type {\n",
       "        vertical-align: middle;\n",
       "    }\n",
       "\n",
       "    .dataframe tbody tr th {\n",
       "        vertical-align: top;\n",
       "    }\n",
       "\n",
       "    .dataframe thead th {\n",
       "        text-align: right;\n",
       "    }\n",
       "</style>\n",
       "<table border=\"1\" class=\"dataframe\">\n",
       "  <thead>\n",
       "    <tr style=\"text-align: right;\">\n",
       "      <th></th>\n",
       "      <th>comments</th>\n",
       "      <th>retweets</th>\n",
       "      <th>likes</th>\n",
       "    </tr>\n",
       "    <tr>\n",
       "      <th>type</th>\n",
       "      <th></th>\n",
       "      <th></th>\n",
       "      <th></th>\n",
       "    </tr>\n",
       "  </thead>\n",
       "  <tbody>\n",
       "    <tr>\n",
       "      <th>fact</th>\n",
       "      <td>20650.0</td>\n",
       "      <td>39300.0</td>\n",
       "      <td>385809.375</td>\n",
       "    </tr>\n",
       "  </tbody>\n",
       "</table>\n",
       "</div>"
      ],
      "text/plain": [
       "      comments  retweets       likes\n",
       "type                                \n",
       "fact   20650.0   39300.0  385809.375"
      ]
     },
     "execution_count": 71,
     "metadata": {},
     "output_type": "execute_result"
    }
   ],
   "source": [
    "#output the mean of comments, retweets, likes for fake news and fact\n",
    "df.groupby('type').mean()"
   ]
  },
  {
   "cell_type": "markdown",
   "metadata": {},
   "source": [
    "# Bar chart and Pie chart for Retweets"
   ]
  },
  {
   "cell_type": "code",
   "execution_count": 72,
   "metadata": {},
   "outputs": [],
   "source": [
    "#group retweets by type\n",
    "grouped_Retweets_Type = df[\"retweets\"].groupby(df[\"type\"])"
   ]
  },
  {
   "cell_type": "code",
   "execution_count": 73,
   "metadata": {},
   "outputs": [
    {
     "data": {
      "text/plain": [
       "<matplotlib.axes._subplots.AxesSubplot at 0x277c43bc3a0>"
      ]
     },
     "execution_count": 73,
     "metadata": {},
     "output_type": "execute_result"
    },
    {
     "data": {
      "image/png": "[encoded data removed]",
      "text/plain": [
       "<Figure size 432x288 with 1 Axes>"
      ]
     },
     "metadata": {
      "needs_background": "light"
     },
     "output_type": "display_data"
    }
   ],
   "source": [
    "#draw a bar chart for the mean of retweets\n",
    "grouped_Retweets_Type.mean().plot.bar(x='type', y='retweets',title='Mean of retweets (Biden tweets)')"
   ]
  },
  {
   "cell_type": "code",
   "execution_count": 74,
   "metadata": {},
   "outputs": [
    {
     "data": {
      "text/plain": [
       "<matplotlib.axes._subplots.AxesSubplot at 0x277c4888970>"
      ]
     },
     "execution_count": 74,
     "metadata": {},
     "output_type": "execute_result"
    },
    {
     "data": {
      "image/png": "[encoded data removed]",
      "text/plain": [
       "<Figure size 432x288 with 1 Axes>"
      ]
     },
     "metadata": {},
     "output_type": "display_data"
    }
   ],
   "source": [
    "#draw a pie chart for the mean of retweets\n",
    "grouped_Retweets_Type.mean().plot.pie(x=\"type\",y=\"retweets\",title='Mean of retweets (Biden tweets)')"
   ]
  },
  {
   "cell_type": "markdown",
   "metadata": {},
   "source": [
    "# Bar chart and Pie chart for Comments"
   ]
  },
  {
   "cell_type": "code",
   "execution_count": 75,
   "metadata": {},
   "outputs": [],
   "source": [
    "#group comments by type\n",
    "grouped_Comments_Type = df[\"comments\"].groupby(df[\"type\"])"
   ]
  },
  {
   "cell_type": "code",
   "execution_count": 76,
   "metadata": {},
   "outputs": [
    {
     "data": {
      "text/plain": [
       "<matplotlib.axes._subplots.AxesSubplot at 0x277c48d0ca0>"
      ]
     },
     "execution_count": 76,
     "metadata": {},
     "output_type": "execute_result"
    },
    {
     "data": {
      "image/png": "[encoded data removed]",
      "text/plain": [
       "<Figure size 432x288 with 1 Axes>"
      ]
     },
     "metadata": {
      "needs_background": "light"
     },
     "output_type": "display_data"
    }
   ],
   "source": [
    "#draw a bar chart for the mean of comments\n",
    "grouped_Comments_Type.mean().plot.bar(x='type', y='comments',title='Mean of comments (Biden tweets)')"
   ]
  },
  {
   "cell_type": "code",
   "execution_count": 77,
   "metadata": {},
   "outputs": [
    {
     "data": {
      "text/plain": [
       "<matplotlib.axes._subplots.AxesSubplot at 0x277c4923820>"
      ]
     },
     "execution_count": 77,
     "metadata": {},
     "output_type": "execute_result"
    },
    {
     "data": {
      "image/png": "[encoded data removed]",
      "text/plain": [
       "<Figure size 432x288 with 1 Axes>"
      ]
     },
     "metadata": {},
     "output_type": "display_data"
    }
   ],
   "source": [
    "#draw a pie chart for the mean of comments\n",
    "grouped_Comments_Type.mean().plot.pie(x=\"type\",y=\"comments\",title='Mean of comments (Biden tweets)')"
   ]
  },
  {
   "cell_type": "markdown",
   "metadata": {},
   "source": [
    "# Bar chart and Pie chart for Likes"
   ]
  },
  {
   "cell_type": "code",
   "execution_count": 78,
   "metadata": {},
   "outputs": [],
   "source": [
    "#group likes by type\n",
    "grouped_Likes_Type = df[\"likes\"].groupby(df[\"type\"])"
   ]
  },
  {
   "cell_type": "code",
   "execution_count": 79,
   "metadata": {},
   "outputs": [
    {
     "data": {
      "text/plain": [
       "<matplotlib.axes._subplots.AxesSubplot at 0x277c495d790>"
      ]
     },
     "execution_count": 79,
     "metadata": {},
     "output_type": "execute_result"
    },
    {
     "data": {
      "image/png": "[encoded data removed]",
      "text/plain": [
       "<Figure size 432x288 with 1 Axes>"
      ]
     },
     "metadata": {
      "needs_background": "light"
     },
     "output_type": "display_data"
    }
   ],
   "source": [
    "#draw a bar chart for the mean of likes\n",
    "grouped_Likes_Type.mean().plot.bar(x='type', y='likes',title='Mean of likes (Biden tweets)')"
   ]
  },
  {
   "cell_type": "code",
   "execution_count": 80,
   "metadata": {},
   "outputs": [
    {
     "data": {
      "text/plain": [
       "<matplotlib.axes._subplots.AxesSubplot at 0x277c49ae070>"
      ]
     },
     "execution_count": 80,
     "metadata": {},
     "output_type": "execute_result"
    },
    {
     "data": {
      "image/png": "[encoded data removed]",
      "text/plain": [
       "<Figure size 432x288 with 1 Axes>"
      ]
     },
     "metadata": {},
     "output_type": "display_data"
    }
   ],
   "source": [
    "#draw a pie chart for the mean of likes\n",
    "grouped_Likes_Type.mean().plot.pie(x=\"type\",y=\"likes\",title='Mean of likes (Biden tweets)')"
   ]
  },
  {
   "cell_type": "markdown",
   "metadata": {},
   "source": [
    "# Scatterplots for Retweets, Comments, Likes"
   ]
  },
  {
   "cell_type": "code",
   "execution_count": 61,
   "metadata": {},
   "outputs": [
    {
     "data": {
      "text/plain": [
       "<matplotlib.axes._subplots.AxesSubplot at 0x277c452cd60>"
      ]
     },
     "execution_count": 61,
     "metadata": {},
     "output_type": "execute_result"
    },
    {
     "data": {
      "image/png": "[encoded data removed]",
      "text/plain": [
       "<Figure size 432x288 with 1 Axes>"
      ]
     },
     "metadata": {
      "needs_background": "light"
     },
     "output_type": "display_data"
    }
   ],
   "source": [
    "#draw a scatterplot for the retweets and comments\n",
    "df.plot.scatter(x=\"retweets\", y='comments',title='Correlation of retweets & comments (Biden tweets)')"
   ]
  },
  {
   "cell_type": "code",
   "execution_count": 62,
   "metadata": {},
   "outputs": [
    {
     "data": {
      "text/plain": [
       "<matplotlib.axes._subplots.AxesSubplot at 0x277c43a47f0>"
      ]
     },
     "execution_count": 62,
     "metadata": {},
     "output_type": "execute_result"
    },
    {
     "data": {
      "image/png": "[encoded data removed]",
      "text/plain": [
       "<Figure size 432x288 with 1 Axes>"
      ]
     },
     "metadata": {
      "needs_background": "light"
     },
     "output_type": "display_data"
    }
   ],
   "source": [
    "#draw a scatterplot for the retweets and likes\n",
    "df.plot.scatter(x=\"retweets\", y='likes',title='Correlation of retweets & likes (Biden tweets)')"
   ]
  },
  {
   "cell_type": "code",
   "execution_count": 64,
   "metadata": {},
   "outputs": [
    {
     "data": {
      "text/plain": [
       "<matplotlib.axes._subplots.AxesSubplot at 0x277c46427c0>"
      ]
     },
     "execution_count": 64,
     "metadata": {},
     "output_type": "execute_result"
    },
    {
     "data": {
      "image/png": "[encoded data removed]",
      "text/plain": [
       "<Figure size 432x288 with 1 Axes>"
      ]
     },
     "metadata": {
      "needs_background": "light"
     },
     "output_type": "display_data"
    }
   ],
   "source": [
    "#draw a scatterplot for the comments and likes\n",
    "df.plot.scatter(x=\"comments\", y='likes',title='Correlation of comments & likes (Biden tweets)')"
   ]
  }
 ],
 "metadata": {
  "kernelspec": {
   "display_name": "Python 3",
   "language": "python",
   "name": "python3"
  },
  "language_info": {
   "codemirror_mode": {
    "name": "ipython",
    "version": 3
   },
   "file_extension": ".py",
   "mimetype": "text/x-python",
   "name": "python",
   "nbconvert_exporter": "python",
   "pygments_lexer": "ipython3",
   "version": "3.8.3"
  }
 },
 "nbformat": 4,
 "nbformat_minor": 4
}
